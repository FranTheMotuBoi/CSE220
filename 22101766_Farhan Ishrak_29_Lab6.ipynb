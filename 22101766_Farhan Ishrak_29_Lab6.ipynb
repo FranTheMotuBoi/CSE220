{
  "nbformat": 4,
  "nbformat_minor": 0,
  "metadata": {
    "colab": {
      "provenance": []
    },
    "kernelspec": {
      "name": "python3",
      "display_name": "Python 3"
    },
    "language_info": {
      "name": "python"
    }
  },
  "cells": [
    {
      "cell_type": "code",
      "execution_count": 2,
      "metadata": {
        "colab": {
          "base_uri": "https://localhost:8080/"
        },
        "id": "QshrUmhgAnps",
        "outputId": "38a60b34-af09-4269-9a31-8d565c7073ad"
      },
      "outputs": [
        {
          "output_type": "execute_result",
          "data": {
            "text/plain": [
              "24"
            ]
          },
          "metadata": {},
          "execution_count": 2
        }
      ],
      "source": [
        "#TASK1 - a\n",
        "def fact(n):\n",
        "  if n==0 or n==1:\n",
        "    return 1\n",
        "  else:\n",
        "    return n * fact(n-1)\n",
        "fact(4)"
      ]
    },
    {
      "cell_type": "code",
      "source": [
        "#TASK1 - b\n",
        "def fib(n):\n",
        "  if n<=0:\n",
        "    return 0\n",
        "  elif n==1:\n",
        "    return 1\n",
        "\n",
        "  else:\n",
        "    return fib(n-1) + fib(n-2)\n",
        "fib(4)\n"
      ],
      "metadata": {
        "colab": {
          "base_uri": "https://localhost:8080/"
        },
        "id": "rodqED29Enm9",
        "outputId": "b7a5c81d-8a06-41fe-e9e5-6d3e8a497000"
      },
      "execution_count": 13,
      "outputs": [
        {
          "output_type": "execute_result",
          "data": {
            "text/plain": [
              "3"
            ]
          },
          "metadata": {},
          "execution_count": 13
        }
      ]
    },
    {
      "cell_type": "code",
      "source": [
        "#TASK1 - c\n",
        "def printA(A, i=0):\n",
        "    if i==len(A):\n",
        "        print(\"\")\n",
        "        return None\n",
        "    print(A[i])\n",
        "    printA(A, i+1)\n",
        "\n",
        "A = [1,2,3,4]\n",
        "printA(A)"
      ],
      "metadata": {
        "colab": {
          "base_uri": "https://localhost:8080/"
        },
        "id": "PVL6XfjJTNoK",
        "outputId": "4c74061f-c205-478b-8c7b-bc4a67a6eee6"
      },
      "execution_count": 49,
      "outputs": [
        {
          "output_type": "stream",
          "name": "stdout",
          "text": [
            "1\n",
            "2\n",
            "3\n",
            "4\n",
            "\n"
          ]
        }
      ]
    },
    {
      "cell_type": "code",
      "source": [
        "#TASK1 - d\n",
        "def powerN(a, n):\n",
        "  if n == 0:\n",
        "    return 1\n",
        "  else:\n",
        "    return a * powerN(a, n-1)\n",
        "powerN(3,2)\n"
      ],
      "metadata": {
        "colab": {
          "base_uri": "https://localhost:8080/"
        },
        "id": "IlKYmM8nU3Vl",
        "outputId": "08910d49-b904-4b31-9a23-7bcdab1b528a"
      },
      "execution_count": 27,
      "outputs": [
        {
          "output_type": "execute_result",
          "data": {
            "text/plain": [
              "9"
            ]
          },
          "metadata": {},
          "execution_count": 27
        }
      ]
    },
    {
      "cell_type": "code",
      "source": [
        "#TASK2 - a\n",
        "def deci_to_bin(n):\n",
        "    if n == 0:\n",
        "        return \"0\"\n",
        "    elif n == 1:\n",
        "        return \"1\"\n",
        "    else:\n",
        "        return deci_to_bin(n // 2) + str(n % 2)\n",
        "deci_to_bin(4)\n",
        "\n"
      ],
      "metadata": {
        "colab": {
          "base_uri": "https://localhost:8080/",
          "height": 35
        },
        "id": "az1__3O3GLwv",
        "outputId": "2de00063-c95c-4b9e-b544-13f6b21a8dfe"
      },
      "execution_count": 31,
      "outputs": [
        {
          "output_type": "execute_result",
          "data": {
            "text/plain": [
              "'100'"
            ],
            "application/vnd.google.colaboratory.intrinsic+json": {
              "type": "string"
            }
          },
          "metadata": {},
          "execution_count": 31
        }
      ]
    },
    {
      "cell_type": "code",
      "source": [
        "#TASK2 - b\n",
        "class Node:\n",
        "  def __init__(self,elem,next):\n",
        "    self.elem=elem\n",
        "    self.next=next\n",
        "class createLinkedList:\n",
        "  def __init__(self,a):\n",
        "    for i in range(len(a)):\n",
        "      if i==0:\n",
        "        self.head=Node(a[i],None)\n",
        "        tail=self.head\n",
        "      else:\n",
        "        t=Node(a[i],None)\n",
        "        tail.next=t\n",
        "        tail=t\n",
        "    return None\n",
        "arr=[1,2,3,4,5]\n",
        "a=createLinkedList(arr)\n",
        "\n",
        "def addAll(head):\n",
        "  if head==None:\n",
        "    return 0\n",
        "  else:\n",
        "    return head.elem+addAll(head.next)\n",
        "print(addAll(a.head))"
      ],
      "metadata": {
        "id": "wlLkAhhJMhvj",
        "colab": {
          "base_uri": "https://localhost:8080/"
        },
        "outputId": "2375cfe0-8f13-4338-8c63-2e4cb569dae6"
      },
      "execution_count": 38,
      "outputs": [
        {
          "output_type": "stream",
          "name": "stdout",
          "text": [
            "15\n"
          ]
        }
      ]
    },
    {
      "cell_type": "code",
      "source": [
        "#TASK2 - c\n",
        "arr=[10,20,30,40]\n",
        "b=createLinkedList(arr)\n",
        "\n",
        "def revPrint(head):\n",
        "  if head.next==None:\n",
        "    print(head.elem)\n",
        "  else:\n",
        "    revPrint(head.next)\n",
        "    print(head.elem)\n",
        "revPrint(b.head)"
      ],
      "metadata": {
        "colab": {
          "base_uri": "https://localhost:8080/"
        },
        "id": "Gl5mXOeuXsx0",
        "outputId": "90665ccc-4ff7-4781-ed56-09a19a5e58a6"
      },
      "execution_count": 39,
      "outputs": [
        {
          "output_type": "stream",
          "name": "stdout",
          "text": [
            "40\n",
            "30\n",
            "20\n",
            "10\n"
          ]
        }
      ]
    },
    {
      "cell_type": "code",
      "source": [
        "#TASK3\n",
        "def hocBuilder(height):\n",
        "  if height==0:\n",
        "    return 0\n",
        "  elif height==1:\n",
        "    return 8+hocBuilder(height-1)\n",
        "  else:\n",
        "    return 5+hocBuilder(height-1)\n",
        "\n",
        "hocBuilder(3)"
      ],
      "metadata": {
        "colab": {
          "base_uri": "https://localhost:8080/"
        },
        "id": "ZOJ9P4wKYj2v",
        "outputId": "61b0ebaf-bfec-4228-8778-411afe9642b9"
      },
      "execution_count": 41,
      "outputs": [
        {
          "output_type": "execute_result",
          "data": {
            "text/plain": [
              "18"
            ]
          },
          "metadata": {},
          "execution_count": 41
        }
      ]
    },
    {
      "cell_type": "code",
      "source": [
        "#TASK4 - a\n",
        "def row(n):\n",
        "    if n==0:\n",
        "        return None\n",
        "    row(n-1)\n",
        "    print(n, end=\" \")\n",
        "\n",
        "\n",
        "def column(n):\n",
        "    if n==0:\n",
        "        return None\n",
        "    column(n-1)\n",
        "    row(n)\n",
        "    print(\"\")\n",
        "\n",
        "column(5)"
      ],
      "metadata": {
        "colab": {
          "base_uri": "https://localhost:8080/"
        },
        "id": "R7M1HwmUZB7e",
        "outputId": "4ba6d44a-77b4-4f4c-d97c-e998d7bcdc5b"
      },
      "execution_count": 42,
      "outputs": [
        {
          "output_type": "stream",
          "name": "stdout",
          "text": [
            "1 \n",
            "1 2 \n",
            "1 2 3 \n",
            "1 2 3 4 \n",
            "1 2 3 4 5 \n"
          ]
        }
      ]
    },
    {
      "cell_type": "code",
      "source": [
        "#TASK4- b\n",
        "def row(n):\n",
        "    if n==0:\n",
        "        return None\n",
        "    row(n-1)\n",
        "    print(n, end=\" \")\n",
        "\n",
        "def printspace(i):\n",
        "    if i==0:\n",
        "        return None\n",
        "    print(\" \", end=\" \")\n",
        "    printspace(i-1)\n",
        "\n",
        "def column(n, number):\n",
        "    if n==0:\n",
        "        return None\n",
        "    column(n-1, number)\n",
        "    printspace(number-n)\n",
        "    row(n)\n",
        "    print(\"\")\n",
        "\n",
        "n = 5\n",
        "column(n, n)"
      ],
      "metadata": {
        "colab": {
          "base_uri": "https://localhost:8080/"
        },
        "id": "eethXwxqZm8F",
        "outputId": "6e1902be-7953-4e12-c0f2-8493802ff0b6"
      },
      "execution_count": 44,
      "outputs": [
        {
          "output_type": "stream",
          "name": "stdout",
          "text": [
            "        1 \n",
            "      1 2 \n",
            "    1 2 3 \n",
            "  1 2 3 4 \n",
            "1 2 3 4 5 \n"
          ]
        }
      ]
    },
    {
      "cell_type": "code",
      "source": [
        "#TASK5\n",
        "class FinalQ:\n",
        "    def pnt(self,array,idx):\n",
        "        if idx < len(array):\n",
        "            profit = self.calcProfit(array[idx])\n",
        "            print(\"{}.Investment:{};Profit:{}\".format(idx+1,array[idx],self.calcProfit(array[idx])))\n",
        "            self.pnt(array,idx+1)\n",
        "\n",
        "\n",
        "    def calcProfit(self, investment):\n",
        "        if investment==25000:\n",
        "            return 00.00\n",
        "        else:\n",
        "            if investment<=100000:\n",
        "                return self.calcProfit(investment-1000)+45.00\n",
        "            else:\n",
        "                return self.calcProfit(investment-1000)+80.00\n",
        "\n",
        "\n",
        "array = [25000,100000,250000,350000]\n",
        "f = FinalQ()\n",
        "f.pnt(array, 0)"
      ],
      "metadata": {
        "colab": {
          "base_uri": "https://localhost:8080/"
        },
        "id": "6abssj9iZ5ye",
        "outputId": "2ac4bd2e-1144-49b8-ac71-c94532f47a06"
      },
      "execution_count": 45,
      "outputs": [
        {
          "output_type": "stream",
          "name": "stdout",
          "text": [
            "1.Investment:25000;Profit:0.0\n",
            "2.Investment:100000;Profit:3375.0\n",
            "3.Investment:250000;Profit:15375.0\n",
            "4.Investment:350000;Profit:23375.0\n"
          ]
        }
      ]
    },
    {
      "cell_type": "code",
      "source": [
        "## Must finish Task\n",
        "\n",
        "\n",
        "def flattenList(given_list, output_list):\n",
        "\n",
        "  if len(given_list) == 0:\n",
        "    return output_list\n",
        "\n",
        "  if isinstance(given_list[0], list):\n",
        "    flattenList(given_list[0], output_list)\n",
        "\n",
        "  else:\n",
        "    output_list.append(given_list[0])\n",
        "\n",
        "\n",
        "  return flattenList(given_list[1:], output_list)\n",
        "\n",
        "\n",
        "given_list = [1, [2, [3, [4], 5], 6], 7, 8, [9, [[10, 11], 12], 13], 14, [15, [16, [17]]]]\n",
        "output_list = flattenList(given_list, [])\n",
        "print(output_list)"
      ],
      "metadata": {
        "colab": {
          "base_uri": "https://localhost:8080/"
        },
        "id": "Z0sGlRd3bSKe",
        "outputId": "1e555d7a-908f-4940-a386-dd7ba66c4da2"
      },
      "execution_count": 50,
      "outputs": [
        {
          "output_type": "stream",
          "name": "stdout",
          "text": [
            "[1, 2, 3, 4, 5, 6, 7, 8, 9, 10, 11, 12, 13, 14, 15, 16, 17]\n"
          ]
        }
      ]
    }
  ]
}