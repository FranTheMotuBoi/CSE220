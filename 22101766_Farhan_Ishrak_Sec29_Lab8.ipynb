{
  "cells": [
    {
      "cell_type": "code",
      "execution_count": 1,
      "metadata": {
        "id": "D6vC520OPeTa"
      },
      "outputs": [],
      "source": [
        "class BTNode:\n",
        "  def __init__(self, elem):\n",
        "    self.elem = elem\n",
        "    self.right = None\n",
        "    self.left = None"
      ]
    },
    {
      "cell_type": "code",
      "execution_count": 2,
      "metadata": {
        "id": "UDTKlm4-PfNM"
      },
      "outputs": [],
      "source": [
        "def inorder(root):\n",
        "  if root == None:\n",
        "    return\n",
        "\n",
        "  inorder(root.left)\n",
        "  print(root.elem, end = ' ')\n",
        "  inorder(root.right)"
      ]
    },
    {
      "cell_type": "code",
      "execution_count": 3,
      "metadata": {
        "colab": {
          "base_uri": "https://localhost:8080/"
        },
        "id": "Rtc22SPzPgzM",
        "outputId": "acc91761-8bc9-4834-b1bb-67a881d41842"
      },
      "outputs": [
        {
          "output_type": "stream",
          "name": "stdout",
          "text": [
            "H D B E A I F J C G k "
          ]
        }
      ],
      "source": [
        "def tree_construction(arr, i = 1):\n",
        "  if i>=len(arr) or arr[i] == None:\n",
        "    return None\n",
        "  p = BTNode(arr[i])\n",
        "  p.left = tree_construction(arr, 2*i)\n",
        "  p.right = tree_construction(arr, 2*i+1)\n",
        "  return p\n",
        "\n",
        "\n",
        "root2 = tree_construction([None, 'A', 'B', 'C', 'D', 'E', 'F', 'G', 'H', None, None, None, 'I', 'J', None, 'k'])\n",
        "inorder(root2)"
      ]
    },
    {
      "cell_type": "markdown",
      "metadata": {
        "id": "S2nNCJNhPqGq"
      },
      "source": [
        "Task 1"
      ]
    },
    {
      "cell_type": "code",
      "execution_count": null,
      "metadata": {
        "colab": {
          "base_uri": "https://localhost:8080/"
        },
        "id": "zbBHU3FoPieb",
        "outputId": "34f8f5fb-7bbd-4840-ad2d-9aa4f8f2ce0b"
      },
      "outputs": [
        {
          "output_type": "stream",
          "name": "stdout",
          "text": [
            "Given Tree Inorder Traversal:  40 20 60 10 30 \n",
            "Mirrored Tree Inorder Traversal:  30 10 60 20 40 "
          ]
        }
      ],
      "source": [
        "def convert_mirror(root):\n",
        " if root==None:\n",
        "  return\n",
        " root.left, root.right = convert_mirror(root.right), convert_mirror(root.left)\n",
        " return root\n",
        "\n",
        "\n",
        "\n",
        "#DRIVER CODE\n",
        "root = BTNode(10)\n",
        "n1 = BTNode(20)\n",
        "n2 = BTNode(30)\n",
        "n3 = BTNode(40)\n",
        "n4 = BTNode(60)\n",
        "\n",
        "root.left = n1\n",
        "root.right = n2\n",
        "\n",
        "n1.left = n3\n",
        "n1.right = n4\n",
        "\n",
        "print('Given Tree Inorder Traversal: ', end = ' ')\n",
        "inorder(root) #Given Tree Inorder Traversal:  40 20 60 10 30\n",
        "print()\n",
        "\n",
        "root2 = convert_mirror(root)\n",
        "print('Mirrored Tree Inorder Traversal: ', end = ' ')\n",
        "inorder(root2) #Mirrored Tree Inorder Traversal:  30 10 60 20 40"
      ]
    },
    {
      "cell_type": "markdown",
      "source": [
        "Task 2"
      ],
      "metadata": {
        "id": "MsG8MpgI79Z_"
      }
    },
    {
      "cell_type": "code",
      "execution_count": 9,
      "metadata": {
        "colab": {
          "base_uri": "https://localhost:8080/"
        },
        "id": "lsuxinlBPmji",
        "outputId": "03980c23-2911-46fc-ad42-c1793ed94592"
      },
      "outputs": [
        {
          "output_type": "stream",
          "name": "stdout",
          "text": [
            "Given Tree Inorder Traversal:  3 9 5 4 2 7 \n",
            "Level Wise Largest Value:  {0: 4, 1: 9, 2: 7}\n"
          ]
        }
      ],
      "source": [
        "def largest_level(root,lvl=0,dic={}):\n",
        "  if root == None:\n",
        "        return\n",
        "  if lvl in dic:\n",
        "        if root.elem > dic[lvl]:\n",
        "            dic[lvl] = root.elem\n",
        "  else:\n",
        "        dic[lvl] = root.elem\n",
        "  if root.left!=None:\n",
        "        largest_level(root.left, lvl+1, dic)\n",
        "  if root.right!=None:\n",
        "        largest_level(root.right, lvl+1, dic)\n",
        "  return dic\n",
        "\n",
        "root = tree_construction([None, 4,9,2,3,5,None,7])\n",
        "print('Given Tree Inorder Traversal: ', end = ' ')\n",
        "inorder(root) #Given Tree Inorder Traversal:  3 9 5 4 2 7\n",
        "print()\n",
        "print('Level Wise Largest Value: ', end = ' ')\n",
        "print(largest_level(root)) #Level Wise Largest Value:  {0: 4, 1: 9, 2: 7}"
      ]
    },
    {
      "cell_type": "markdown",
      "metadata": {
        "id": "7r3lH3aWPz2d"
      },
      "source": [
        "Task 3"
      ]
    },
    {
      "cell_type": "code",
      "execution_count": 5,
      "metadata": {
        "colab": {
          "base_uri": "https://localhost:8080/"
        },
        "id": "zFwP64v4Pu6d",
        "outputId": "ae2471d5-1999-4101-e66f-240e3d1facad"
      },
      "outputs": [
        {
          "output_type": "stream",
          "name": "stdout",
          "text": [
            "Given Tree Inorder Traversal:  4 8 10 12 14 20 22 \n",
            "Inorder successor of node 8: 10\n"
          ]
        }
      ],
      "source": [
        "def inorder_successor(root, x):\n",
        "    if root.elem > x.elem :\n",
        "        return inorder_successor(root.left, x)\n",
        "    elif root.elem < x.elem:\n",
        "        return inorder_successor(root.right, x)\n",
        "    else:\n",
        "        t = root.right\n",
        "        while t.left!=None:\n",
        "            t = t.left\n",
        "        return t\n",
        "\n",
        "root = BTNode(20)\n",
        "n1 = BTNode(8)\n",
        "n2 = BTNode(22)\n",
        "n3 = BTNode(4)\n",
        "n4 = BTNode(12)\n",
        "n5 = BTNode(10)\n",
        "n6 = BTNode(14)\n",
        "\n",
        "root.left = n1\n",
        "root.right = n2\n",
        "\n",
        "n1.left = n3\n",
        "n1.right = n4\n",
        "\n",
        "n4.left = n5\n",
        "n4.right = n6\n",
        "\n",
        "print('Given Tree Inorder Traversal: ', end = ' ')\n",
        "inorder(root) #Given Tree Inorder Traversal:  4 8 10 12 14 20 22\n",
        "print()\n",
        "\n",
        "x = n1\n",
        "print(f'Inorder successor of node {x.elem}: {inorder_successor(root, x).elem}') #Inorder successor of node 8: 10"
      ]
    },
    {
      "cell_type": "markdown",
      "metadata": {
        "id": "t3IGW4OaP8Vy"
      },
      "source": [
        "Task 4"
      ]
    },
    {
      "cell_type": "code",
      "execution_count": 16,
      "metadata": {
        "colab": {
          "base_uri": "https://localhost:8080/"
        },
        "id": "d1A-tR7hP2fI",
        "outputId": "079e50fc-8c21-42d2-a9ec-80d867760786"
      },
      "outputs": [
        {
          "output_type": "stream",
          "name": "stdout",
          "text": [
            "Given Tree Inorder Traversal:  4 5 6 7 8 9 11 12 \n",
            "7\n"
          ]
        }
      ],
      "source": [
        "def count_nodes(root):\n",
        "    if root is None:\n",
        "        return 0\n",
        "    else:\n",
        "        return 1 + count_nodes(root.left) + count_nodes(root.right)\n",
        "\n",
        "def kth_smallest(root, k):\n",
        "    count = count_nodes(root.left)\n",
        "    if k <= count:\n",
        "        return kth_smallest(root.left, k)\n",
        "    elif k > count + 1:\n",
        "        return kth_smallest(root.right, k-1-count)\n",
        "    return root\n",
        "\n",
        "#DRIVER CODE\n",
        "root = tree_construction([None, 9,5,11,4,7,None,12,None,None,6,8,None,None,None,None])\n",
        "print('Given Tree Inorder Traversal: ', end = ' ')\n",
        "inorder(root)\n",
        "print()\n",
        "k = 4\n",
        "print(kth_smallest(root,k).elem)"
      ]
    },
    {
      "cell_type": "markdown",
      "metadata": {
        "id": "SBD-0xoZP_ni"
      },
      "source": [
        "Bonus"
      ]
    },
    {
      "cell_type": "code",
      "source": [
        "def h(root, level=0, d={}):\n",
        "    if root is None:\n",
        "        return\n",
        "    if level not in d:\n",
        "        d[level] = root.elem\n",
        "    else:\n",
        "        d[level] += root.elem\n",
        "    h(root.left, level+1, d)\n",
        "    h(root.right, level+1, d)\n",
        "    return d\n",
        "\n",
        "def bonus(root):\n",
        "    data = h(root)\n",
        "    sum = 0\n",
        "    for i in data:\n",
        "        if i % 2 == 0:\n",
        "            sum += data[i]\n",
        "        else:\n",
        "            sum -= data[i]\n",
        "    return sum\n",
        "root = tree_construction([None, 9,5,11,4,7,None,12,None,None,6,8,None,None,None,None])\n",
        "print('Given Tree Inorder Traversal: ', end = ' ')\n",
        "inorder(root)\n",
        "print()\n",
        "k = 4\n",
        "print(bonus(root))"
      ],
      "metadata": {
        "colab": {
          "base_uri": "https://localhost:8080/"
        },
        "id": "R348Nuz8gqg9",
        "outputId": "fbc4719d-187d-473a-911b-f949d2fe867d"
      },
      "execution_count": 18,
      "outputs": [
        {
          "output_type": "stream",
          "name": "stdout",
          "text": [
            "Given Tree Inorder Traversal:  4 5 6 7 8 9 11 12 \n",
            "2\n"
          ]
        }
      ]
    }
  ],
  "metadata": {
    "colab": {
      "provenance": []
    },
    "kernelspec": {
      "display_name": "Python 3",
      "name": "python3"
    },
    "language_info": {
      "name": "python"
    }
  },
  "nbformat": 4,
  "nbformat_minor": 0
}